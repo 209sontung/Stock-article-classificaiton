{
  "nbformat": 4,
  "nbformat_minor": 0,
  "metadata": {
    "colab": {
      "name": "Raw_to_data.ipynb",
      "provenance": []
    },
    "kernelspec": {
      "name": "python3",
      "display_name": "Python 3"
    },
    "language_info": {
      "name": "python"
    }
  },
  "cells": [
    {
      "cell_type": "code",
      "metadata": {
        "colab": {
          "base_uri": "https://localhost:8080/"
        },
        "id": "R-XQLPGA9m9G",
        "outputId": "6b9fae34-1ac3-4da0-8f05-7af109f61274"
      },
      "source": [
        "!git clone https://github.com/vncorenlp/VnCoreNLP\n",
        "!pip install vncorenlp"
      ],
      "execution_count": 1,
      "outputs": [
        {
          "output_type": "stream",
          "name": "stdout",
          "text": [
            "fatal: destination path 'VnCoreNLP' already exists and is not an empty directory.\n",
            "Requirement already satisfied: vncorenlp in /usr/local/lib/python3.7/dist-packages (1.0.3)\n",
            "Requirement already satisfied: requests in /usr/local/lib/python3.7/dist-packages (from vncorenlp) (2.23.0)\n",
            "Requirement already satisfied: chardet<4,>=3.0.2 in /usr/local/lib/python3.7/dist-packages (from requests->vncorenlp) (3.0.4)\n",
            "Requirement already satisfied: urllib3!=1.25.0,!=1.25.1,<1.26,>=1.21.1 in /usr/local/lib/python3.7/dist-packages (from requests->vncorenlp) (1.24.3)\n",
            "Requirement already satisfied: certifi>=2017.4.17 in /usr/local/lib/python3.7/dist-packages (from requests->vncorenlp) (2021.5.30)\n",
            "Requirement already satisfied: idna<3,>=2.5 in /usr/local/lib/python3.7/dist-packages (from requests->vncorenlp) (2.10)\n"
          ]
        }
      ]
    },
    {
      "cell_type": "code",
      "metadata": {
        "id": "_-zxRowz9yBl"
      },
      "source": [
        "from vncorenlp import VnCoreNLP\n",
        "import pandas as pd\n",
        "import re"
      ],
      "execution_count": 2,
      "outputs": []
    },
    {
      "cell_type": "code",
      "metadata": {
        "id": "5tYIxoFwAgYB"
      },
      "source": [
        "rdrsegmenter = VnCoreNLP(\"/content/VnCoreNLP/VnCoreNLP-1.1.1.jar\", annotators=\"wseg,pos,ner\", max_heap_size='-Xmx2g')"
      ],
      "execution_count": 3,
      "outputs": []
    },
    {
      "cell_type": "code",
      "metadata": {
        "id": "Vv9u-2XX9fS9"
      },
      "source": [
        "macp = pd.read_excel('/content/Macp.xlsx')\n",
        "macp = macp.dropna()\n",
        "tenct = macp['Tên Công ty'].tolist()\n",
        "for i in range(len(tenct)):\n",
        "  tenct[i] = str(tenct[i]).lower()\n",
        "tenct[:5]\n",
        "tenma = macp['Mã '].tolist()\n",
        "\n",
        "def del_test(text):\n",
        "  year = ['năm 2021', 'năm 2020', 'năm 2019', 'năm 2018', 'năm 2017', 'năm 2016', 'năm 2015', 'năm 2014', 'năm 2013', 'năm 2012', 'năm 2011', 'năm 2010', 'Năm 2021', 'Năm 2020', 'Năm 2019', 'Năm 2018', 'Năm 2017', 'Năm 2016', 'Năm 2015', 'Năm 2014', 'Năm 2013', 'Năm 2012', 'Năm 2011', 'Năm 2010', '2021', '2020', '2019', '2018', '2017', '2016', '2015', '2014', '2013', '2012', '2011', '2010']\n",
        "  month = ['tháng 1', 'tháng 2', 'tháng 3', 'tháng 4', 'tháng 5', 'tháng 6', 'tháng 7', 'tháng 8', 'tháng 9', 'tháng 10', 'tháng 11', 'tháng 12', 'Tháng 1', 'Tháng 2', 'Tháng 3', 'Tháng 4', 'Tháng 5', 'Tháng 6', 'Tháng 7', 'Tháng 8', 'Tháng 9', 'Tháng 10', 'Tháng 11', 'tháng 12']\n",
        "  quy = ['quý 1', 'quý 2', 'quý 3', 'quý 4', 'Quý 1', 'Quý 2', 'Quý 3', 'Quý 4']\n",
        "  text = text.replace('Covid-19', 'Covid')\n",
        "  word_segmented_text = rdrsegmenter.ner(text)[0]\n",
        "  for char, typ in word_segmented_text:\n",
        "    if typ == 'B-ORG' or typ == 'I-ORG' or typ == 'B-PER' or typ == 'I-PER':\n",
        "      char = char.replace('_', ' ')\n",
        "      text = text.replace(char, 'name')\n",
        "    if typ == \"B-LOC\" or typ == \"I-LOC\":\n",
        "      if char != 'VN':\n",
        "        char = char.replace('_', ' ')\n",
        "        text = text.replace(char,'loc')\n",
        "    if typ == 'O':\n",
        "      if len(re.findall('\\d*\\.?\\,?\\d+\\%', char)) > 0:\n",
        "        text = text.replace(char, 'percent')\n",
        "      if len(re.findall('\\s?\\(?[A-Z]{3,4}\\)?\\s?', char)) > 0 and char != 'USD':\n",
        "          text = text.replace(char, 'name')\n",
        "      if char in tenma:\n",
        "        text = text.replace(char, 'name')\n",
        "      char = char.replace('_', ' ')\n",
        "      char_lower = char.lower()\n",
        "      if char_lower in tenct:\n",
        "        text = text.replace(char, 'name')\n",
        "  text = text.replace('\"', '')\n",
        "  text = text.replace('”', '')\n",
        "  text = text.replace('“', '')\n",
        "  text = text.replace('.', '')\n",
        "  text = text.replace(',', '')\n",
        "  text = text.replace('(', '')\n",
        "  text = text.replace(')', '')\n",
        "  text = text.replace(':', '')\n",
        "  text = text.replace('[', '')\n",
        "  text = text.replace(']', '')\n",
        "  text = text.replace('-', ' ')\n",
        "  text = re.sub('\\d{0,2}-?\\d{0,2}\\/\\d{1,4}', 'date', text)\n",
        "  for i in quy:\n",
        "    text = text.replace(i, 'date')\n",
        "  for i in year:\n",
        "    text = text.replace(i, 'date')\n",
        "  for i in month:\n",
        "    text = text.replace(i, 'date')\n",
        "  text = re.sub('\\d+ năm ', 'date ', text)\n",
        "  text = re.sub('\\d+ tháng ', 'date ', text)\n",
        "  text = re.sub(' \\-?\\d+\\w?', ' number', text)\n",
        "  text = text.split()\n",
        "  for i in range(len(text)):\n",
        "    if text[i].isdigit():\n",
        "      text[i] = 'number'\n",
        "  text = ' '.join(text)\n",
        "  text1 = text.split()\n",
        "  for i in range(len(text1)+1):\n",
        "    try:\n",
        "      if text1[i][0].isupper() and text1[i+1][0].isupper():\n",
        "        text = text.replace(text1[i], 'name')\n",
        "        text = text.replace(text1[i+1], 'name')\n",
        "    except:\n",
        "      pass\n",
        "  text = rdrsegmenter.tokenize(text)\n",
        "  text = ' '.join([' '.join(x) for x in text])\n",
        "  text = text.lower()\n",
        "  return text"
      ],
      "execution_count": 7,
      "outputs": []
    },
    {
      "cell_type": "code",
      "metadata": {
        "colab": {
          "base_uri": "https://localhost:8080/",
          "height": 359
        },
        "id": "Ic5GalJI89XB",
        "outputId": "f2fa8b11-0ad9-4733-8fa6-8250b174b6b2"
      },
      "source": [
        "data = pd.read_excel('raw_data.xlsx')\n",
        "data.head(10)"
      ],
      "execution_count": 5,
      "outputs": [
        {
          "output_type": "execute_result",
          "data": {
            "text/html": [
              "<div>\n",
              "<style scoped>\n",
              "    .dataframe tbody tr th:only-of-type {\n",
              "        vertical-align: middle;\n",
              "    }\n",
              "\n",
              "    .dataframe tbody tr th {\n",
              "        vertical-align: top;\n",
              "    }\n",
              "\n",
              "    .dataframe thead th {\n",
              "        text-align: right;\n",
              "    }\n",
              "</style>\n",
              "<table border=\"1\" class=\"dataframe\">\n",
              "  <thead>\n",
              "    <tr style=\"text-align: right;\">\n",
              "      <th></th>\n",
              "      <th>title</th>\n",
              "      <th>label</th>\n",
              "    </tr>\n",
              "  </thead>\n",
              "  <tbody>\n",
              "    <tr>\n",
              "      <th>0</th>\n",
              "      <td>\"Trùm\" logistics Sotrans lên kế hoạch tăng gấp...</td>\n",
              "      <td>3</td>\n",
              "    </tr>\n",
              "    <tr>\n",
              "      <th>1</th>\n",
              "      <td>ĐHĐCĐ SSI: \"Khen ngợi CTCK thị phần số 1, nhưn...</td>\n",
              "      <td>2</td>\n",
              "    </tr>\n",
              "    <tr>\n",
              "      <th>2</th>\n",
              "      <td>Cổ phiếu nhóm Viettel giảm mạnh dù thị trường ...</td>\n",
              "      <td>2</td>\n",
              "    </tr>\n",
              "    <tr>\n",
              "      <th>3</th>\n",
              "      <td>Cổ phiếu lên đỉnh, con gái chủ tịch Haxaco (HA...</td>\n",
              "      <td>2</td>\n",
              "    </tr>\n",
              "    <tr>\n",
              "      <th>4</th>\n",
              "      <td>FPT: Cổ phiếu bứt phá 59%, lãi ròng 4 tháng đầ...</td>\n",
              "      <td>3</td>\n",
              "    </tr>\n",
              "    <tr>\n",
              "      <th>5</th>\n",
              "      <td>Soi lợi nhuận quý 1 của các cổ phiếu \"hàng hiệu\"</td>\n",
              "      <td>2</td>\n",
              "    </tr>\n",
              "    <tr>\n",
              "      <th>6</th>\n",
              "      <td>SP mua lại 49% cổ phần Skylar từ BCG Energy, x...</td>\n",
              "      <td>3</td>\n",
              "    </tr>\n",
              "    <tr>\n",
              "      <th>7</th>\n",
              "      <td>DIC Corp (DIG) dự kiến phát hành gần 60 triệu ...</td>\n",
              "      <td>3</td>\n",
              "    </tr>\n",
              "    <tr>\n",
              "      <th>8</th>\n",
              "      <td>Sự vực dậy sau hàng thập kỷ của những thương h...</td>\n",
              "      <td>3</td>\n",
              "    </tr>\n",
              "    <tr>\n",
              "      <th>9</th>\n",
              "      <td>8 sai lầm kể cả nhà đầu tư chứng khoán lâu năm...</td>\n",
              "      <td>2</td>\n",
              "    </tr>\n",
              "  </tbody>\n",
              "</table>\n",
              "</div>"
            ],
            "text/plain": [
              "                                               title  label\n",
              "0  \"Trùm\" logistics Sotrans lên kế hoạch tăng gấp...      3\n",
              "1  ĐHĐCĐ SSI: \"Khen ngợi CTCK thị phần số 1, nhưn...      2\n",
              "2  Cổ phiếu nhóm Viettel giảm mạnh dù thị trường ...      2\n",
              "3  Cổ phiếu lên đỉnh, con gái chủ tịch Haxaco (HA...      2\n",
              "4  FPT: Cổ phiếu bứt phá 59%, lãi ròng 4 tháng đầ...      3\n",
              "5   Soi lợi nhuận quý 1 của các cổ phiếu \"hàng hiệu\"      2\n",
              "6  SP mua lại 49% cổ phần Skylar từ BCG Energy, x...      3\n",
              "7  DIC Corp (DIG) dự kiến phát hành gần 60 triệu ...      3\n",
              "8  Sự vực dậy sau hàng thập kỷ của những thương h...      3\n",
              "9  8 sai lầm kể cả nhà đầu tư chứng khoán lâu năm...      2"
            ]
          },
          "metadata": {},
          "execution_count": 5
        }
      ]
    },
    {
      "cell_type": "code",
      "metadata": {
        "id": "BUhVRq4vA6h1"
      },
      "source": [
        "new_title = []\n",
        "title = data['title'].tolist()\n",
        "for i in title:\n",
        "  new_title.append(del_test(i))\n",
        "new_title"
      ],
      "execution_count": null,
      "outputs": []
    },
    {
      "cell_type": "code",
      "metadata": {
        "colab": {
          "base_uri": "https://localhost:8080/",
          "height": 204
        },
        "id": "lvZoi5lMAw62",
        "outputId": "09540367-2ece-4320-97eb-49d6899fd700"
      },
      "source": [
        "new_data = pd.DataFrame()\n",
        "new_data['title'] = new_title\n",
        "new_data['label'] = data['label']\n",
        "new_data.head()"
      ],
      "execution_count": 11,
      "outputs": [
        {
          "output_type": "execute_result",
          "data": {
            "text/html": [
              "<div>\n",
              "<style scoped>\n",
              "    .dataframe tbody tr th:only-of-type {\n",
              "        vertical-align: middle;\n",
              "    }\n",
              "\n",
              "    .dataframe tbody tr th {\n",
              "        vertical-align: top;\n",
              "    }\n",
              "\n",
              "    .dataframe thead th {\n",
              "        text-align: right;\n",
              "    }\n",
              "</style>\n",
              "<table border=\"1\" class=\"dataframe\">\n",
              "  <thead>\n",
              "    <tr style=\"text-align: right;\">\n",
              "      <th></th>\n",
              "      <th>title</th>\n",
              "      <th>label</th>\n",
              "    </tr>\n",
              "  </thead>\n",
              "  <tbody>\n",
              "    <tr>\n",
              "      <th>0</th>\n",
              "      <td>trùm logistics name lên kế_hoạch tăng gấp đôi ...</td>\n",
              "      <td>3</td>\n",
              "    </tr>\n",
              "    <tr>\n",
              "      <th>1</th>\n",
              "      <td>đhđcđ name khen_ngợi name thị_phần số number n...</td>\n",
              "      <td>2</td>\n",
              "    </tr>\n",
              "    <tr>\n",
              "      <th>2</th>\n",
              "      <td>cổ_phiếu nhóm name giảm mạnh dù thị_trường lên...</td>\n",
              "      <td>2</td>\n",
              "    </tr>\n",
              "    <tr>\n",
              "      <th>3</th>\n",
              "      <td>cổ_phiếu lên đỉnh con gái chủ_tịch name name đ...</td>\n",
              "      <td>2</td>\n",
              "    </tr>\n",
              "    <tr>\n",
              "      <th>4</th>\n",
              "      <td>name cổ_phiếu bứt_phá percent lãi_ròng date đầ...</td>\n",
              "      <td>3</td>\n",
              "    </tr>\n",
              "  </tbody>\n",
              "</table>\n",
              "</div>"
            ],
            "text/plain": [
              "                                               title  label\n",
              "0  trùm logistics name lên kế_hoạch tăng gấp đôi ...      3\n",
              "1  đhđcđ name khen_ngợi name thị_phần số number n...      2\n",
              "2  cổ_phiếu nhóm name giảm mạnh dù thị_trường lên...      2\n",
              "3  cổ_phiếu lên đỉnh con gái chủ_tịch name name đ...      2\n",
              "4  name cổ_phiếu bứt_phá percent lãi_ròng date đầ...      3"
            ]
          },
          "metadata": {},
          "execution_count": 11
        }
      ]
    },
    {
      "cell_type": "code",
      "metadata": {
        "id": "am5VHNKjHIJe"
      },
      "source": [
        "count = 0\n",
        "title = new_data['title'].to_list()\n",
        "label = new_data['label'].to_list()\n",
        "with open('test-3.txt', 'w') as obj:\n",
        "  for i in range(new_data.shape[0]):\n",
        "    obj.write('train_{}'.format(count))\n",
        "    obj.write('\\n')\n",
        "    obj.write(title[i])\n",
        "    obj.write('\\n')\n",
        "    obj.write(str(label[i]))\n",
        "    obj.write('\\n\\n')\n",
        "    count += 1"
      ],
      "execution_count": 18,
      "outputs": []
    }
  ]
}